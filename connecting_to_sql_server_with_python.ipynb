{
 "cells": [
  {
   "cell_type": "code",
   "execution_count": 5,
   "metadata": {},
   "outputs": [
    {
     "name": "stdout",
     "output_type": "stream",
     "text": [
      "[('Kira Nerys', 29)]\n"
     ]
    }
   ],
   "source": [
    "import pyodbc\n",
    "\n",
    "connection = pyodbc.connect(\"DRIVER={SQL Server};\"\n",
    "                            \"SERVER=WIN-O68OIR96LK9;\"\"DATABASE=lesson20;\"\n",
    "                            \"Trusted_Connection=yes;\")\n",
    "cursor = connection.cursor()\n",
    "\n",
    "sql = [\n",
    "    \"create database homework_py;\",\n",
    "    \"use homework_py;\",\n",
    "    \"create table Retro (name varchar(255), species varchar(255), age int)\",\n",
    "    \"insert into Retro values ('Benjamin Sisko', 'Human', 40), ('Jadzia Dax', 'Trill', 300), ('Kira Nerys', 'Bajoran', 29)\",\n",
    "    \"update Retro set name = 'Ezri Dax' where name = 'Jadzia Dax'\",\n",
    "    \"select name, age from Retro where species = 'Bajoran' \"\n",
    "]\n",
    "for i in sql:\n",
    "    response = cursor.execute(i)\n",
    "    if i.startswith(\"select\"):\n",
    "        result = response.fetchall()\n",
    "        print(result)\n",
    "connection.commit()\n",
    "connection.close()\n"
   ]
  }
 ],
 "metadata": {
  "kernelspec": {
   "display_name": "Python 3",
   "language": "python",
   "name": "python3"
  },
  "language_info": {
   "codemirror_mode": {
    "name": "ipython",
    "version": 3
   },
   "file_extension": ".py",
   "mimetype": "text/x-python",
   "name": "python",
   "nbconvert_exporter": "python",
   "pygments_lexer": "ipython3",
   "version": "3.11.7"
  }
 },
 "nbformat": 4,
 "nbformat_minor": 2
}
